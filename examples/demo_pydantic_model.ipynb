{
 "cells": [
  {
   "cell_type": "code",
   "execution_count": 1,
   "id": "4910488b-7b5c-4cd4-9e57-7ee5ee65d74a",
   "metadata": {},
   "outputs": [],
   "source": [
    "import os\n",
    "\n",
    "os.environ[\"LLAMA_CLOUD_API_KEY\"] = \"llx-QlZUAXGgDpfavBR40UJp6tvfH9h0fEsvTVk0oR9JzNi5bU9c\""
   ]
  },
  {
   "cell_type": "markdown",
   "id": "1dbdfc48-f4dc-4721-a8c7-f448bdad6afe",
   "metadata": {},
   "source": [
    "### Load data"
   ]
  },
  {
   "cell_type": "code",
   "execution_count": 2,
   "id": "a9259a49-3fb2-4b6a-bc9b-b06ae69504d6",
   "metadata": {},
   "outputs": [],
   "source": [
    "DATA_DIR = 'data/resumes'"
   ]
  },
  {
   "cell_type": "code",
   "execution_count": 3,
   "id": "6aac33a3-dc6a-4b10-a9f5-a8f308ce34e7",
   "metadata": {},
   "outputs": [
    {
     "data": {
      "text/plain": [
       "['data/resumes/14224370.pdf',\n",
       " 'data/resumes/12780508.pdf',\n",
       " 'data/resumes/19545827.pdf']"
      ]
     },
     "execution_count": 3,
     "metadata": {},
     "output_type": "execute_result"
    }
   ],
   "source": [
    "fnames = os.listdir(DATA_DIR)\n",
    "fnames = [fname for fname in fnames if fname.endswith('.pdf')]\n",
    "fpaths = [os.path.join(DATA_DIR, fname) for fname in fnames]\n",
    "fpaths"
   ]
  },
  {
   "cell_type": "markdown",
   "id": "c2446be5-43ae-4c47-940a-69481a817543",
   "metadata": {},
   "source": [
    "### Define a Pydantic Model"
   ]
  },
  {
   "cell_type": "code",
   "execution_count": 4,
   "id": "6d867ccf-71cf-425e-ba03-7b3ba29903b0",
   "metadata": {},
   "outputs": [],
   "source": [
    "from pydantic import BaseModel"
   ]
  },
  {
   "cell_type": "code",
   "execution_count": 5,
   "id": "82672963-e830-4889-9a5a-c934c950616d",
   "metadata": {},
   "outputs": [],
   "source": [
    "class Education(BaseModel):\n",
    "    degree: str\n",
    "    honors: str\n",
    "    institution: str\n",
    "    field_of_study: str\n",
    "    graudation_year: str\n",
    "    \n",
    "class Resume(BaseModel):\n",
    "    education: Education\n",
    "    summary: str"
   ]
  },
  {
   "cell_type": "markdown",
   "id": "2e5aac63-50e8-44c6-8d6c-f3b1cb9461ec",
   "metadata": {},
   "source": [
    "### Create schema"
   ]
  },
  {
   "cell_type": "code",
   "execution_count": 6,
   "id": "9f9b3f21-7b0b-4220-a290-9f127c6def3c",
   "metadata": {},
   "outputs": [],
   "source": [
    "from llama_extract import LlamaExtract\n",
    "\n",
    "extractor = LlamaExtract(verbose=True)"
   ]
  },
  {
   "cell_type": "code",
   "execution_count": 7,
   "id": "8a1df10b-b380-4791-8df3-47e8cf307962",
   "metadata": {},
   "outputs": [],
   "source": [
    "schema_response = await extractor.acreate_schema('Resume Schema', data_schema=Resume)"
   ]
  },
  {
   "cell_type": "markdown",
   "id": "f27d35ff-d17b-49ca-925c-d49087e1b21b",
   "metadata": {},
   "source": [
    "### Run extraction"
   ]
  },
  {
   "cell_type": "code",
   "execution_count": 10,
   "id": "b406e2ee-e82d-401b-aab5-56e96e47dae1",
   "metadata": {},
   "outputs": [
    {
     "name": "stderr",
     "output_type": "stream",
     "text": [
      "Extracting files: 100%|██████████████████████████████████████████████████████████████████████████████████████████████████████████████████████| 3/3 [00:06<00:00,  2.22s/it]\n"
     ]
    }
   ],
   "source": [
    "responses, models = await extractor.aextract(schema_response.id, fpaths, response_model=Resume)"
   ]
  },
  {
   "cell_type": "code",
   "execution_count": 30,
   "id": "ddb47a6b-9d34-4ecc-8c50-2c1c705047f2",
   "metadata": {},
   "outputs": [
    {
     "name": "stdout",
     "output_type": "stream",
     "text": [
      "=====\n",
      "Summary:\t Degreed accountant with more than 10 years of diversified accounting experience seeking accounting position at a well-established company in Houston\n",
      "Institution:\t University of Houston\n",
      "=====\n",
      "Summary:\t Provided customers with prompt, accurate, courteous and professional banking service. Identified and referred sales opportunities to Relationship Bankers about products and services. Utilized several mediums such as phone and emails to help customers. Assisted customers with opening and closing of accounts. Answered and resolved problems that are within my authority. Accepted and processed loan applications and conduct loan interviews. Assisted members with their financial transactions, involving paying and receiving cash and other negotiable instruments. Maintained proper cash levels at the branch. Responsible for cash shipments to and from main office to the branch. Processed all commercial deposits, balanced vault daily. Responsible for equipment maintenance; assisted staff with balancing problems. Did random spot check with staff to ensure cash levels are within predetermined branch limits.\n",
      "Institution:\t University of Maryland\n",
      "=====\n",
      "Summary:\t Maintained a 4.0 GPA while completing 12 hours of upper level accounting courses.\n",
      "Institution:\t Marshall University\n"
     ]
    }
   ],
   "source": [
    "for model in models:\n",
    "    print('=====')\n",
    "    print('Summary:\\t', model.summary)\n",
    "    print('Institution:\\t', model.education.institution)"
   ]
  },
  {
   "cell_type": "code",
   "execution_count": null,
   "id": "f1672b11-fa39-42cf-bc47-82e132c21587",
   "metadata": {},
   "outputs": [],
   "source": []
  }
 ],
 "metadata": {
  "kernelspec": {
   "display_name": "Python 3 (ipykernel)",
   "language": "python",
   "name": "python3"
  },
  "language_info": {
   "codemirror_mode": {
    "name": "ipython",
    "version": 3
   },
   "file_extension": ".py",
   "mimetype": "text/x-python",
   "name": "python",
   "nbconvert_exporter": "python",
   "pygments_lexer": "ipython3",
   "version": "3.11.3"
  }
 },
 "nbformat": 4,
 "nbformat_minor": 5
}
