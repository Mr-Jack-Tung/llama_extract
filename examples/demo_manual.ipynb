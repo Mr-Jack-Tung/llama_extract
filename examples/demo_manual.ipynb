{
 "cells": [
  {
   "cell_type": "markdown",
   "metadata": {},
   "source": [
    "# Manually create a schema to extract data from files"
   ]
  },
  {
   "cell_type": "markdown",
   "metadata": {},
   "source": [
    "In this notebook, we will demonstrate how to manually create a schema and using it to extract structured data from invoice PDF files.\n",
    "\n",
    "The steps are:\n",
    "1. Create a schema using a valid JSON schema object.\n",
    "2. Extract structured data (i.e. JSONs) from invoice PDF files\n",
    "\n",
    "Additional Resources:\n",
    "- `LlamaExtract`: https://docs.cloud.llamaindex.ai/"
   ]
  },
  {
   "cell_type": "markdown",
   "metadata": {},
   "source": [
    "## Setup\n",
    "Install `llama-extract` client library:"
   ]
  },
  {
   "cell_type": "code",
   "execution_count": null,
   "metadata": {},
   "outputs": [],
   "source": [
    "%pip install llama-extract"
   ]
  },
  {
   "cell_type": "markdown",
   "metadata": {},
   "source": [
    "Follow [instruction](https://docs.cloud.llamaindex.ai/llamacloud/getting_started/api_key)  to get an API key from https://cloud.llamaindex.ai/"
   ]
  },
  {
   "cell_type": "code",
   "execution_count": null,
   "metadata": {},
   "outputs": [],
   "source": [
    "import os\n",
    "\n",
    "os.environ[\n",
    "    \"LLAMA_CLOUD_API_KEY\"\n",
    "] = \"llx-7PV0mlZKNetJn5hG5UwEucDdhiHXLu4fXo4tgOusoPWVwzMJ\""
   ]
  },
  {
   "cell_type": "markdown",
   "metadata": {},
   "source": [
    "## Create the schema\n",
    "First, let's create the schema using a valid JSON schema object with `LlamaExtract`."
   ]
  },
  {
   "cell_type": "code",
   "execution_count": null,
   "metadata": {},
   "outputs": [],
   "source": [
    "from llama_extract import LlamaExtract\n",
    "\n",
    "extractor = LlamaExtract()\n",
    "\n",
    "data_schema = {\n",
    "    \"type\": \"object\",\n",
    "    \"properties\": {\n",
    "        \"number\": {\"type\": \"string\"},\n",
    "        \"date\": {\"type\": \"string\"},\n",
    "        \"amount\": {\"type\": \"number\"},\n",
    "    },\n",
    "}\n",
    "\n",
    "extraction_schema = await extractor.acreate_schema(\"Test Schema\", data_schema)"
   ]
  },
  {
   "cell_type": "markdown",
   "metadata": {},
   "source": [
    "Let's preview the created schema:"
   ]
  },
  {
   "cell_type": "code",
   "execution_count": null,
   "metadata": {},
   "outputs": [
    {
     "data": {
      "text/plain": [
       "{'type': 'object',\n",
       " 'properties': {'date': {'type': 'string'},\n",
       "  'amount': {'type': 'number'},\n",
       "  'number': {'type': 'string'}}}"
      ]
     },
     "execution_count": null,
     "metadata": {},
     "output_type": "execute_result"
    }
   ],
   "source": [
    "extraction_schema.data_schema"
   ]
  },
  {
   "cell_type": "markdown",
   "metadata": {},
   "source": [
    "## Extract structured data\n",
    "Now with the schema, we can extract structured data (i.e. JSON) from the our invoices files."
   ]
  },
  {
   "cell_type": "code",
   "execution_count": null,
   "metadata": {},
   "outputs": [
    {
     "name": "stderr",
     "output_type": "stream",
     "text": [
      "Extracting files: 100%|██████████████████████████████████████████████████████████████████████████████████████████████████████████████████████| 2/2 [00:04<00:00,  2.06s/it]\n"
     ]
    }
   ],
   "source": [
    "extractions = await extractor.aextract(\n",
    "    extraction_schema.id,\n",
    "    [\"./data/noisebridge_receipt.pdf\", \"./data/parallels_invoice.pdf\"],\n",
    ")"
   ]
  },
  {
   "cell_type": "markdown",
   "metadata": {},
   "source": [
    "Preview the extracted data:"
   ]
  },
  {
   "cell_type": "code",
   "execution_count": null,
   "metadata": {},
   "outputs": [
    {
     "data": {
      "text/plain": [
       "{'date': 'July 19, 2024', 'amount': '10.0', 'number': '2721 5058'}"
      ]
     },
     "execution_count": null,
     "metadata": {},
     "output_type": "execute_result"
    }
   ],
   "source": [
    "extractions[0].data"
   ]
  }
 ],
 "metadata": {
  "kernelspec": {
   "display_name": "Python 3 (ipykernel)",
   "language": "python",
   "name": "python3"
  },
  "language_info": {
   "codemirror_mode": {
    "name": "ipython",
    "version": 3
   },
   "file_extension": ".py",
   "mimetype": "text/x-python",
   "name": "python",
   "nbconvert_exporter": "python",
   "pygments_lexer": "ipython3"
  }
 },
 "nbformat": 4,
 "nbformat_minor": 4
}
