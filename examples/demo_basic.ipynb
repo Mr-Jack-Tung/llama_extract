{
 "cells": [
  {
   "cell_type": "markdown",
   "metadata": {},
   "source": [
    "# LlamaExtract Usage"
   ]
  },
  {
   "cell_type": "code",
   "execution_count": null,
   "metadata": {},
   "outputs": [],
   "source": [
    "%pip install llama-extract"
   ]
  },
  {
   "cell_type": "code",
   "execution_count": null,
   "metadata": {},
   "outputs": [],
   "source": [
    "# llama-extract is async-first, running the sync code in a notebook requires the use of nest_asyncio\n",
    "import nest_asyncio\n",
    "\n",
    "nest_asyncio.apply()\n",
    "\n",
    "import os\n",
    "\n",
    "os.environ[\"LLAMA_CLOUD_API_KEY\"] = \"llx-...\""
   ]
  },
  {
   "cell_type": "code",
   "execution_count": null,
   "metadata": {},
   "outputs": [],
   "source": [
    "from llama_extract import LlamaExtract\n",
    "\n",
    "extractor = LlamaExtract()\n",
    "\n",
    "extraction_schema = extractor.infer_schema(\"Test Schema\", [...])"
   ]
  },
  {
   "cell_type": "code",
   "execution_count": null,
   "metadata": {},
   "outputs": [
    {
     "name": "stdout",
     "output_type": "stream",
     "text": [
      "{'type': 'object', 'properties': {'Contact': {'type': 'object', 'properties': {'name': {'type': 'string'}, 'email': {'type': 'string'}, 'telephone': {'type': 'string'}}}, 'PaymentNotice': {'type': 'object', 'properties': {'investor': {'type': 'object', 'properties': {'name': {'type': 'string'}}}, 'dealCusip': {'type': 'string'}, 'loanShare': {'type': 'string'}, 'reference': {'type': 'string'}, 'bankDetails': {'type': 'object', 'properties': {'aba': {'type': 'string'}, 'bankName': {'type': 'string'}, 'attention': {'type': 'string'}, 'accountNumber': {'type': 'string'}, 'bankToBankInfo': {'type': 'string'}}}, 'paymentType': {'type': 'string'}, 'effectiveDate': {'type': 'string'}, 'facilityCusip': {'type': 'string'}, 'remittedAmount': {'type': 'string'}, 'interestPayment': {'type': 'string'}, 'paymentDescription': {'type': 'string'}}}, 'LoanRepricingNotice': {'type': 'object', 'properties': {'dealIsin': {'type': 'string'}, 'allInRate': {'type': 'string'}, 'dealCusip': {'type': 'string'}, 'rateBasis': {'type': 'string'}, 'yourShare': {'type': 'string'}, 'loanAmount': {'type': 'string'}, 'description': {'type': 'string'}, 'facilityIsin': {'type': 'string'}, 'lookBackDays': {'type': 'integer'}, 'baseRateFloor': {'type': 'string'}, 'effectiveDate': {'type': 'string'}, 'facilityCusip': {'type': 'string'}, 'referenceRate': {'type': 'string'}, 'repricingDate': {'type': 'string'}, 'spreadAdjustment': {'type': 'string'}, 'nextRepricingDate': {'type': 'string'}, 'legacyBaseRateFloor': {'type': 'string'}, 'projectedInterestDue': {'type': 'string'}}}}}\n"
     ]
    }
   ],
   "source": [
    "print(extraction_schema.data_schema)"
   ]
  },
  {
   "cell_type": "code",
   "execution_count": null,
   "metadata": {},
   "outputs": [
    {
     "name": "stderr",
     "output_type": "stream",
     "text": [
      "Extracting files: 100%|██████████| 2/2 [01:02<00:00, 31.19s/it]\n"
     ]
    }
   ],
   "source": [
    "extractions = extractor.extract(extraction_schema.id, [...])"
   ]
  },
  {
   "cell_type": "code",
   "execution_count": null,
   "metadata": {},
   "outputs": [
    {
     "name": "stdout",
     "output_type": "stream",
     "text": [
      "{'Contact': {'name': 'HASHNEET KAUR', 'email': 'HASHNEET.KAUR@CHASE.COM', 'telephone': '+1-302-634-1253'}, 'PaymentNotice': {'investor': {'name': 'FARALLON CAPITAL (AM) INVESTORS, L.P.'}, 'dealCusip': 'CORELOGIC INC. $4BN 6/4/21 MUCY*', 'loanShare': 'USD 17,773.30', 'reference': 'CORELOGIC INC. $4BN 6/4/21 MUCY*, CME Term SOFR Reference Rates - Effective Repricing', 'bankDetails': {'aba': '021000089', 'bankName': 'CITIBANK NA', 'attention': 'Goldman Sachs & Co New York', 'accountNumber': '30649484', 'bankToBankInfo': 'FFC 002458339 Farallon Capital AM Investors LP'}, 'paymentType': 'Interest Payment', 'effectiveDate': '31-Oct-2023', 'facilityCusip': None, 'remittedAmount': 'USD 132.39', 'interestPayment': 'USD 132.39', 'paymentDescription': 'Your share of the CME Term SOFR Reference Rates - Effective interest payment'}, 'LoanRepricingNotice': {'dealIsin': None, 'allInRate': '8.938600%', 'dealCusip': None, 'rateBasis': None, 'yourShare': 'USD 17,773.30', 'loanAmount': None, 'description': None, 'facilityIsin': None, 'lookBackDays': None, 'baseRateFloor': None, 'effectiveDate': '31-Oct-2023', 'facilityCusip': None, 'referenceRate': None, 'repricingDate': '29-Nov-2023', 'spreadAdjustment': None, 'nextRepricingDate': None, 'legacyBaseRateFloor': None, 'projectedInterestDue': None}}\n"
     ]
    }
   ],
   "source": [
    "print(extractions[0].data)"
   ]
  }
 ],
 "metadata": {
  "kernelspec": {
   "display_name": "llama-extract-tm5usU00-py3.11",
   "language": "python",
   "name": "python3"
  },
  "language_info": {
   "codemirror_mode": {
    "name": "ipython",
    "version": 3
   },
   "file_extension": ".py",
   "mimetype": "text/x-python",
   "name": "python",
   "nbconvert_exporter": "python",
   "pygments_lexer": "ipython3"
  }
 },
 "nbformat": 4,
 "nbformat_minor": 2
}
